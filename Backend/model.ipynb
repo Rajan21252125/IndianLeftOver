{
 "cells": [
  {
   "cell_type": "code",
   "execution_count": null,
   "metadata": {},
   "outputs": [],
   "source": [
    "import pandas as pd\n",
    "data = pd.read_csv(\"final.csv\")\n",
    "data.head(3)"
   ]
  },
  {
   "cell_type": "code",
   "execution_count": null,
   "metadata": {},
   "outputs": [],
   "source": [
    "a = data.columns.to_list()\n",
    "a"
   ]
  },
  {
   "cell_type": "code",
   "execution_count": null,
   "metadata": {},
   "outputs": [],
   "source": [
    "data.drop(columns=[\n",
    " 'TranslatedIngredients'], inplace=True)"
   ]
  },
  {
   "cell_type": "code",
   "execution_count": null,
   "metadata": {},
   "outputs": [],
   "source": [
    "data.isnull().sum()\n",
    "newData = data.fillna(\"None\")\n",
    "newData.isnull().sum()"
   ]
  },
  {
   "cell_type": "code",
   "execution_count": null,
   "metadata": {},
   "outputs": [],
   "source": [
    "data.dtypes"
   ]
  },
  {
   "cell_type": "code",
   "execution_count": null,
   "metadata": {},
   "outputs": [],
   "source": [
    "from sklearn.feature_extraction.text import CountVectorizer\n",
    "from sklearn.metrics.pairwise import cosine_similarity\n",
    "import joblib"
   ]
  },
  {
   "cell_type": "code",
   "execution_count": null,
   "metadata": {},
   "outputs": [],
   "source": [
    "cv = CountVectorizer(stop_words='english')\n",
    "ingredients_matrix = cv.fit_transform(data['Cleaned-Ingredients'])"
   ]
  },
  {
   "cell_type": "code",
   "execution_count": null,
   "metadata": {},
   "outputs": [],
   "source": [
    "cosine_sim = cosine_similarity(ingredients_matrix)"
   ]
  },
  {
   "cell_type": "code",
   "execution_count": null,
   "metadata": {},
   "outputs": [],
   "source": [
    "def get_recipe_recommendations(leftover_ingredients):\n",
    "    if leftover_ingredients is None:\n",
    "        return []\n",
    "    # leftover_ingredients.replace(\" \",\",\")\n",
    "    leftover_list = leftover_ingredients.split(',')\n",
    "    data['cosine_sim'] = data['TranslatedRecipeName'].apply(lambda x: cosine_similarity\n",
    "                                                               (cv.transform([x]), cv.transform([leftover_ingredients]))[0][0])\n",
    "    sorted_df = data.sort_values('cosine_sim', ascending=False).reset_index()\n",
    "    recommendations = []\n",
    "    for i in range(10):\n",
    "        recommendations.append([i+1, sorted_df.loc[i, 'TranslatedRecipeName'], sorted_df.loc[i, 'cosine_sim'],sorted_df.loc[i,'URL'] , sorted_df.loc[i,'image-url']])\n",
    "    return recommendations"
   ]
  },
  {
   "cell_type": "code",
   "execution_count": null,
   "metadata": {},
   "outputs": [],
   "source": [
    "a = get_recipe_recommendations(\"Butter,Garlic,Green Chillies,Onion,Green capsicum\")\n",
    "a"
   ]
  },
  {
   "cell_type": "code",
   "execution_count": null,
   "metadata": {},
   "outputs": [],
   "source": [
    "cv = CountVectorizer(stop_words='english')\n",
    "recipe = cv.fit_transform(data['TranslatedRecipeName'])"
   ]
  },
  {
   "cell_type": "code",
   "execution_count": null,
   "metadata": {},
   "outputs": [],
   "source": [
    "cosine_sim1 = cosine_similarity(recipe)"
   ]
  },
  {
   "cell_type": "code",
   "execution_count": null,
   "metadata": {},
   "outputs": [],
   "source": [
    "def searchRecipe(query):\n",
    "    if query is None:\n",
    "        return []\n",
    "\n",
    "    # Calculate cosine similarity for all recipes\n",
    "    data['cosine_sim1'] = data['TranslatedRecipeName'].apply(lambda x: cosine_similarity(\n",
    "        cv.transform([x.lower()]), cv.transform([query.lower()]))[0][0])\n",
    "    \n",
    "    sorted_df = data.sort_values('cosine_sim1', ascending=False).reset_index()\n",
    "    recipr_recommendations = []\n",
    "\n",
    "    # Iterate through all sorted recipes\n",
    "    for i in range(len(sorted_df)):\n",
    "        recipr_recommendations.append([\n",
    "            i + 1,\n",
    "            sorted_df.loc[i, 'TranslatedRecipeName'],\n",
    "            sorted_df.loc[i, 'TranslatedInstructions'],\n",
    "            sorted_df.loc[i, 'URL'],\n",
    "            sorted_df.loc[i, 'image-url'],\n",
    "            sorted_df.loc[i, 'Cuisine']\n",
    "        ])\n",
    "\n",
    "    return recipr_recommendations\n"
   ]
  },
  {
   "cell_type": "code",
   "execution_count": null,
   "metadata": {},
   "outputs": [],
   "source": [
    "searchRecipe(\"pizza\")"
   ]
  },
  {
   "cell_type": "code",
   "execution_count": null,
   "metadata": {},
   "outputs": [],
   "source": [
    "# joblib.dump(cosine_sim, 'model1.joblib')"
   ]
  }
 ],
 "metadata": {
  "kernelspec": {
   "display_name": "Python 3",
   "language": "python",
   "name": "python3"
  },
  "language_info": {
   "codemirror_mode": {
    "name": "ipython",
    "version": 3
   },
   "file_extension": ".py",
   "mimetype": "text/x-python",
   "name": "python",
   "nbconvert_exporter": "python",
   "pygments_lexer": "ipython3",
   "version": "3.11.6"
  }
 },
 "nbformat": 4,
 "nbformat_minor": 2
}
